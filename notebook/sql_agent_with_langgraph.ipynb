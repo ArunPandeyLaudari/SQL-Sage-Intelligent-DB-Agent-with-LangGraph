{
 "cells": [
  {
   "cell_type": "code",
   "execution_count": 1,
   "id": "00b43df4",
   "metadata": {},
   "outputs": [],
   "source": [
    "import sqlite3"
   ]
  },
  {
   "cell_type": "code",
   "execution_count": 2,
   "id": "e91522ee",
   "metadata": {},
   "outputs": [],
   "source": [
    "#1 lets create a database and set the connection"
   ]
  },
  {
   "cell_type": "code",
   "execution_count": 3,
   "id": "b77122f4",
   "metadata": {},
   "outputs": [],
   "source": [
    "conn=sqlite3.connect('my_database.db')"
   ]
  },
  {
   "cell_type": "code",
   "execution_count": 4,
   "id": "512e92cd",
   "metadata": {},
   "outputs": [
    {
     "data": {
      "text/plain": [
       "<sqlite3.Connection at 0x1f1a8529120>"
      ]
     },
     "execution_count": 4,
     "metadata": {},
     "output_type": "execute_result"
    }
   ],
   "source": [
    "conn"
   ]
  },
  {
   "cell_type": "code",
   "execution_count": 5,
   "id": "1517e794",
   "metadata": {},
   "outputs": [],
   "source": [
    "# 2  create a table insert query\n",
    "\n",
    "emp_table_creation_query = \"\"\"\n",
    "CREATE TABLE IF NOT EXISTS employees (\n",
    "    employee_id INTEGER PRIMARY KEY AUTOINCREMENT,\n",
    "    first_name TEXT NOT NULL,\n",
    "    last_name TEXT NOT NULL,\n",
    "    email TEXT NOT NULL UNIQUE,\n",
    "    phone TEXT,\n",
    "    address TEXT,\n",
    "    hire_date TEXT NOT NULL,\n",
    "    salary REAL NOT NULL,\n",
    "    department TEXT NOT NULL,\n",
    "    position TEXT NOT NULL\n",
    ");\n",
    "\"\"\"\n",
    " "
   ]
  },
  {
   "cell_type": "code",
   "execution_count": 6,
   "id": "0fe53c13",
   "metadata": {},
   "outputs": [],
   "source": [
    "# 3 create a query for customer table\n",
    "\n",
    "customer_table_creation_query = \"\"\"\n",
    "CREATE TABLE IF NOT EXISTS customers (\n",
    "    customer_id INTEGER PRIMARY KEY AUTOINCREMENT,\n",
    "    first_name TEXT NOT NULL,\n",
    "    last_name TEXT NOT NULL,\n",
    "    email TEXT NOT NULL UNIQUE,\n",
    "    phone TEXT,\n",
    "    address TEXT\n",
    ");\n",
    "\"\"\"\n"
   ]
  },
  {
   "cell_type": "code",
   "execution_count": 7,
   "id": "4a1782cc",
   "metadata": {},
   "outputs": [],
   "source": [
    "# 3 create a query for order table\n",
    "order_table_creation_query = \"\"\"\n",
    "CREATE TABLE IF NOT EXISTS orders (\n",
    "    order_id INTEGER PRIMARY KEY AUTOINCREMENT,\n",
    "    customer_id INTEGER NOT NULL,\n",
    "    order_date TEXT NOT NULL,\n",
    "    total_amount REAL NOT NULL,\n",
    "    FOREIGN KEY (customer_id) REFERENCES customers(customer_id)\n",
    ");\n",
    "\"\"\""
   ]
  },
  {
   "cell_type": "code",
   "execution_count": 8,
   "id": "1d45b9bf",
   "metadata": {},
   "outputs": [],
   "source": [
    "# 4 creating a cursor and executing the queries"
   ]
  },
  {
   "cell_type": "code",
   "execution_count": 9,
   "id": "5820f424",
   "metadata": {},
   "outputs": [],
   "source": [
    "cursor = conn.cursor()"
   ]
  },
  {
   "cell_type": "code",
   "execution_count": 10,
   "id": "e207b928",
   "metadata": {},
   "outputs": [
    {
     "data": {
      "text/plain": [
       "<sqlite3.Cursor at 0x1f1a87003c0>"
      ]
     },
     "execution_count": 10,
     "metadata": {},
     "output_type": "execute_result"
    }
   ],
   "source": [
    "cursor.execute(emp_table_creation_query)\n",
    "cursor.execute(customer_table_creation_query)\n",
    "cursor.execute(order_table_creation_query)"
   ]
  },
  {
   "cell_type": "code",
   "execution_count": 11,
   "id": "a11d9a8b",
   "metadata": {},
   "outputs": [],
   "source": [
    "# 5 creating a insert query for employees , customers and orders\n",
    "\n",
    "insert_employee_query = \"\"\"\n",
    "INSERT INTO employees (first_name, last_name, email, phone, address, hire_date, salary, department, position)\n",
    "VALUES (?, ?, ?, ?, ?, ?, ?, ?, ?);\n",
    "\"\"\"\n",
    "\n",
    "insert_customer_query = \"\"\"\n",
    "INSERT INTO customers (customer_id, first_name, last_name, email, phone, address)\n",
    "VALUES (?, ?, ?, ?, ?, ?);\n",
    "\"\"\"\n",
    "\n",
    "insert_order_query = \"\"\"\n",
    "INSERT INTO orders (order_id, customer_id, order_date, total_amount)\n",
    "VALUES (?, ?, ?, ?);\n",
    "\"\"\""
   ]
  },
  {
   "cell_type": "code",
   "execution_count": 12,
   "id": "7ac8988a",
   "metadata": {},
   "outputs": [],
   "source": [
    "employees_data = [\n",
    "    (\"Suman\", \"Shrestha\", \"suman.shrestha@example.com\", \"9800000001\", \"Kathmandu, Nepal\", \"2022-01-15\", 60000, \"HR\", \"Manager\"),\n",
    "    (\"Anita\", \"Karki\", \"anita.karki@example.com\", \"9800000002\", \"Lalitpur, Nepal\", \"2021-03-22\", 55000, \"Finance\", \"Analyst\"),\n",
    "    (\"Bikash\", \"Thapa\", \"bikash.thapa@example.com\", \"9800000003\", \"Pokhara, Nepal\", \"2020-07-10\", 70000, \"IT\", \"Developer\"),\n",
    "    (\"Rita\", \"Gurung\", \"rita.gurung@example.com\", \"9800000004\", \"Biratnagar, Nepal\", \"2019-11-05\", 65000, \"Marketing\", \"Coordinator\"),\n",
    "    (\"Prakash\", \"Lama\", \"prakash.lama@example.com\", \"9800000005\", \"Bhaktapur, Nepal\", \"2023-02-18\", 72000, \"Sales\", \"Executive\"),\n",
    "    (\"Sunita\", \"Magar\", \"sunita.magar@example.com\", \"9800000006\", \"Dharan, Nepal\", \"2022-09-30\", 58000, \"HR\", \"Recruiter\"),\n",
    "    (\"Dipesh\", \"Rai\", \"dipesh.rai@example.com\", \"9800000007\", \"Butwal, Nepal\", \"2021-12-12\", 80000, \"IT\", \"Lead Developer\"),\n",
    "    (\"Mina\", \"Tamang\", \"mina.tamang@example.com\", \"9800000008\", \"Hetauda, Nepal\", \"2020-05-25\", 54000, \"Finance\", \"Accountant\"),\n",
    "    (\"Kiran\", \"KC\", \"kiran.kc@example.com\", \"9800000009\", \"Janakpur, Nepal\", \"2018-08-14\", 67000, \"Sales\", \"Representative\"),\n",
    "    (\"Sabina\", \"Sharma\", \"sabina.sharma@example.com\", \"9800000010\", \"Chitwan, Nepal\", \"2023-04-01\", 62000, \"Marketing\", \"Specialist\"),\n",
    "    (\"Arun\", \"Pandey Laudari\", \"arunpandeylaudari@example.com\", \"9800000011\", \"Dhangadhi, Nepal\", \"2022-06-20\", 61000, \"IT\", \"Support Engineer\"),\n",
    "    (\"Binisha\", \"Chapagain\", \"binishachapagain2@example.com\", \"9800000012\", \"Nepalgunj, Nepal\", \"2021-10-11\", 59000, \"Finance\", \"Auditor\")\n",
    "]\n"
   ]
  },
  {
   "cell_type": "code",
   "execution_count": 13,
   "id": "846ff205",
   "metadata": {},
   "outputs": [],
   "source": [
    "customers_data = [\n",
    "    (1, \"Arun\", \"Pandey Laudari\", \"arunpandeylaudari@example.com\", \"9800000111\", \"Dhangadhi, Nepal\"),\n",
    "    (2, \"Binisha\", \"Chapagain\", \"binishachapagain2@example.com\", \"9800000112\", \"Nepalgunj, Nepal\"),\n",
    "    (3, \"Ram\", \"Sharma\", \"ram.sharma@example.com\", \"9800000101\", \"Kathmandu, Nepal\"),\n",
    "    (4, \"Sita\", \"Thapa\", \"sita.thapa@example.com\", \"9800000102\", \"Lalitpur, Nepal\"),\n",
    "    (5, \"Hari\", \"Karki\", \"hari.karki@example.com\", \"9800000103\", \"Pokhara, Nepal\"),\n",
    "    (6, \"Gita\", \"Gurung\", \"gita.gurung@example.com\", \"9800000104\", \"Biratnagar, Nepal\"),\n",
    "    (7, \"Nabin\", \"Lama\", \"nabin.lama@example.com\", \"9800000105\", \"Bhaktapur, Nepal\"),\n",
    "    (8, \"Rina\", \"Magar\", \"rina.magar@example.com\", \"9800000106\", \"Dharan, Nepal\"),\n",
    "    (9, \"Dipak\", \"Rai\", \"dipak.rai@example.com\", \"9800000107\", \"Butwal, Nepal\"),\n",
    "    (10, \"Mina\", \"Tamang\", \"mina.tamang@example.com\", \"9800000108\", \"Hetauda, Nepal\"),\n",
    "    (11, \"Kiran\", \"KC\", \"kiran.kc@example.com\", \"9800000109\", \"Janakpur, Nepal\"),\n",
    "    (12, \"Sabina\", \"Sharma\", \"sabina.sharma@example.com\", \"9800000110\", \"Chitwan, Nepal\")\n",
    "]\n",
    "\n",
    "orders_data = [\n",
    "    (1, 1, \"2024-06-01\", 1500.0),\n",
    "    (2, 2, \"2024-06-02\", 2000.0),\n",
    "    (3, 3, \"2024-06-03\", 1750.0),\n",
    "    (4, 4, \"2024-06-04\", 2200.0),\n",
    "    (5, 5, \"2024-06-05\", 1800.0),\n",
    "    (6, 6, \"2024-06-06\", 2100.0),\n",
    "    (7, 7, \"2024-06-07\", 1950.0),\n",
    "    (8, 8, \"2024-06-08\", 2300.0),\n",
    "    (9, 9, \"2024-06-09\", 1600.0),\n",
    "    (10, 10, \"2024-06-10\", 2500.0),\n",
    "    (11, 11, \"2024-06-11\", 1450.0),\n",
    "    (12, 12, \"2024-06-12\", 2050.0)\n",
    "]\n",
    "\n"
   ]
  },
  {
   "cell_type": "code",
   "execution_count": 14,
   "id": "ebbb420b",
   "metadata": {},
   "outputs": [
    {
     "data": {
      "text/plain": [
       "<sqlite3.Cursor at 0x1f1a87003c0>"
      ]
     },
     "execution_count": 14,
     "metadata": {},
     "output_type": "execute_result"
    }
   ],
   "source": [
    "# executing the insert queries with data \n",
    "\n",
    "cursor.executemany(insert_employee_query, employees_data)\n",
    "cursor.executemany(insert_customer_query, customers_data)\n",
    "cursor.executemany(insert_order_query, orders_data)"
   ]
  },
  {
   "cell_type": "code",
   "execution_count": 15,
   "id": "a4c9320f",
   "metadata": {},
   "outputs": [],
   "source": [
    "#  commit the changes to the database\n",
    "\n",
    "conn.commit()"
   ]
  },
  {
   "cell_type": "code",
   "execution_count": null,
   "id": "625c5cee",
   "metadata": {},
   "outputs": [],
   "source": []
  },
  {
   "cell_type": "code",
   "execution_count": 16,
   "id": "8e8dd031",
   "metadata": {},
   "outputs": [
    {
     "name": "stdout",
     "output_type": "stream",
     "text": [
      "Employees Data:\n",
      "(1, 'Suman', 'Shrestha', 'suman.shrestha@example.com', '9800000001', 'Kathmandu, Nepal', '2022-01-15', 60000.0, 'HR', 'Manager')\n",
      "(2, 'Anita', 'Karki', 'anita.karki@example.com', '9800000002', 'Lalitpur, Nepal', '2021-03-22', 55000.0, 'Finance', 'Analyst')\n",
      "(3, 'Bikash', 'Thapa', 'bikash.thapa@example.com', '9800000003', 'Pokhara, Nepal', '2020-07-10', 70000.0, 'IT', 'Developer')\n",
      "(4, 'Rita', 'Gurung', 'rita.gurung@example.com', '9800000004', 'Biratnagar, Nepal', '2019-11-05', 65000.0, 'Marketing', 'Coordinator')\n",
      "(5, 'Prakash', 'Lama', 'prakash.lama@example.com', '9800000005', 'Bhaktapur, Nepal', '2023-02-18', 72000.0, 'Sales', 'Executive')\n",
      "(6, 'Sunita', 'Magar', 'sunita.magar@example.com', '9800000006', 'Dharan, Nepal', '2022-09-30', 58000.0, 'HR', 'Recruiter')\n",
      "(7, 'Dipesh', 'Rai', 'dipesh.rai@example.com', '9800000007', 'Butwal, Nepal', '2021-12-12', 80000.0, 'IT', 'Lead Developer')\n",
      "(8, 'Mina', 'Tamang', 'mina.tamang@example.com', '9800000008', 'Hetauda, Nepal', '2020-05-25', 54000.0, 'Finance', 'Accountant')\n",
      "(9, 'Kiran', 'KC', 'kiran.kc@example.com', '9800000009', 'Janakpur, Nepal', '2018-08-14', 67000.0, 'Sales', 'Representative')\n",
      "(10, 'Sabina', 'Sharma', 'sabina.sharma@example.com', '9800000010', 'Chitwan, Nepal', '2023-04-01', 62000.0, 'Marketing', 'Specialist')\n",
      "(11, 'Arun', 'Pandey Laudari', 'arunpandeylaudari@example.com', '9800000011', 'Dhangadhi, Nepal', '2022-06-20', 61000.0, 'IT', 'Support Engineer')\n",
      "(12, 'Binisha', 'Chapagain', 'binishachapagain2@example.com', '9800000012', 'Nepalgunj, Nepal', '2021-10-11', 59000.0, 'Finance', 'Auditor')\n"
     ]
    }
   ],
   "source": [
    "# lets check if the data is inserted correctly\n",
    "\n",
    "cursor.execute(\"SELECT * FROM employees;\")\n",
    "employees_result = cursor.fetchall()\n",
    "print(\"Employees Data:\")\n",
    "for row in employees_result:\n",
    "    print(row)"
   ]
  },
  {
   "cell_type": "code",
   "execution_count": 17,
   "id": "97d310e0",
   "metadata": {},
   "outputs": [
    {
     "name": "stdout",
     "output_type": "stream",
     "text": [
      "Customers Data:\n",
      "(1, 'Arun', 'Pandey Laudari', 'arunpandeylaudari@example.com', '9800000111', 'Dhangadhi, Nepal')\n",
      "(2, 'Binisha', 'Chapagain', 'binishachapagain2@example.com', '9800000112', 'Nepalgunj, Nepal')\n",
      "(3, 'Ram', 'Sharma', 'ram.sharma@example.com', '9800000101', 'Kathmandu, Nepal')\n",
      "(4, 'Sita', 'Thapa', 'sita.thapa@example.com', '9800000102', 'Lalitpur, Nepal')\n",
      "(5, 'Hari', 'Karki', 'hari.karki@example.com', '9800000103', 'Pokhara, Nepal')\n",
      "(6, 'Gita', 'Gurung', 'gita.gurung@example.com', '9800000104', 'Biratnagar, Nepal')\n",
      "(7, 'Nabin', 'Lama', 'nabin.lama@example.com', '9800000105', 'Bhaktapur, Nepal')\n",
      "(8, 'Rina', 'Magar', 'rina.magar@example.com', '9800000106', 'Dharan, Nepal')\n",
      "(9, 'Dipak', 'Rai', 'dipak.rai@example.com', '9800000107', 'Butwal, Nepal')\n",
      "(10, 'Mina', 'Tamang', 'mina.tamang@example.com', '9800000108', 'Hetauda, Nepal')\n",
      "(11, 'Kiran', 'KC', 'kiran.kc@example.com', '9800000109', 'Janakpur, Nepal')\n",
      "(12, 'Sabina', 'Sharma', 'sabina.sharma@example.com', '9800000110', 'Chitwan, Nepal')\n"
     ]
    }
   ],
   "source": [
    "cursor.execute(\"SELECT * FROM customers;\")\n",
    "customers_result = cursor.fetchall()\n",
    "print(\"Customers Data:\")\n",
    "for row in customers_result:\n",
    "    print(row)"
   ]
  },
  {
   "cell_type": "code",
   "execution_count": 18,
   "id": "0a1a3dcd",
   "metadata": {},
   "outputs": [
    {
     "name": "stdout",
     "output_type": "stream",
     "text": [
      "Orders Data:\n",
      "(1, 1, '2024-06-01', 1500.0)\n",
      "(2, 2, '2024-06-02', 2000.0)\n",
      "(3, 3, '2024-06-03', 1750.0)\n",
      "(4, 4, '2024-06-04', 2200.0)\n",
      "(5, 5, '2024-06-05', 1800.0)\n",
      "(6, 6, '2024-06-06', 2100.0)\n",
      "(7, 7, '2024-06-07', 1950.0)\n",
      "(8, 8, '2024-06-08', 2300.0)\n",
      "(9, 9, '2024-06-09', 1600.0)\n",
      "(10, 10, '2024-06-10', 2500.0)\n",
      "(11, 11, '2024-06-11', 1450.0)\n",
      "(12, 12, '2024-06-12', 2050.0)\n"
     ]
    }
   ],
   "source": [
    "cursor.execute(\"SELECT * FROM orders;\")\n",
    "order_result = cursor.fetchall()\n",
    "print(\"Orders Data:\")\n",
    "for row in order_result:\n",
    "    print(row)"
   ]
  },
  {
   "cell_type": "code",
   "execution_count": null,
   "id": "ae0f1d44",
   "metadata": {},
   "outputs": [],
   "source": []
  },
  {
   "cell_type": "code",
   "execution_count": 55,
   "id": "5193acdf",
   "metadata": {},
   "outputs": [],
   "source": [
    "# langraph start form here for Tools"
   ]
  },
  {
   "cell_type": "code",
   "execution_count": 20,
   "id": "0ba2ef3d",
   "metadata": {},
   "outputs": [
    {
     "data": {
      "text/plain": [
       "True"
      ]
     },
     "execution_count": 20,
     "metadata": {},
     "output_type": "execute_result"
    }
   ],
   "source": [
    "from langchain_community.utilities import SQLDatabase\n",
    "from dotenv import load_dotenv\n",
    "load_dotenv()"
   ]
  },
  {
   "cell_type": "code",
   "execution_count": 21,
   "id": "d958d100",
   "metadata": {},
   "outputs": [],
   "source": [
    "# load the database from the URI in the format sqlite:///my_database.db at variable db\n",
    "\n",
    "db = SQLDatabase.from_uri(\"sqlite:///my_database.db\")"
   ]
  },
  {
   "cell_type": "code",
   "execution_count": 22,
   "id": "3551746b",
   "metadata": {},
   "outputs": [
    {
     "data": {
      "text/plain": [
       "<langchain_community.utilities.sql_database.SQLDatabase at 0x1f1a92d6c00>"
      ]
     },
     "execution_count": 22,
     "metadata": {},
     "output_type": "execute_result"
    }
   ],
   "source": [
    "db\n",
    "# now we can use db to interact with the database"
   ]
  },
  {
   "cell_type": "code",
   "execution_count": 23,
   "id": "bb3e6b68",
   "metadata": {},
   "outputs": [
    {
     "data": {
      "text/plain": [
       "'sqlite'"
      ]
     },
     "execution_count": 23,
     "metadata": {},
     "output_type": "execute_result"
    }
   ],
   "source": [
    "db.dialect\n",
    "\n",
    "# dialect means\n",
    "# In SQLAlchemy and related libraries, \"dialect\" refers to the specific database backend (such as SQLite, MySQL, PostgreSQL, etc.)\n",
    "# It handles differences in SQL syntax and behavior for each database type.\n",
    "# Here, db.dialect shows the dialect object being used, which is responsible for generating SQL statements compatible with your SQLite database."
   ]
  },
  {
   "cell_type": "code",
   "execution_count": 24,
   "id": "c033bf9f",
   "metadata": {},
   "outputs": [
    {
     "data": {
      "text/plain": [
       "['customers', 'employees', 'orders']"
      ]
     },
     "execution_count": 24,
     "metadata": {},
     "output_type": "execute_result"
    }
   ],
   "source": [
    "db.get_usable_table_names()"
   ]
  },
  {
   "cell_type": "code",
   "execution_count": null,
   "id": "ac49550d",
   "metadata": {},
   "outputs": [],
   "source": []
  },
  {
   "cell_type": "code",
   "execution_count": 25,
   "id": "ffffbf1a",
   "metadata": {},
   "outputs": [],
   "source": [
    "from langchain_groq import ChatGroq\n",
    "\n",
    "llm = ChatGroq(\n",
    "    model_name=\"llama-3.1-8b-instant\",\n",
    "    temperature=0.1\n",
    ")\n"
   ]
  },
  {
   "cell_type": "code",
   "execution_count": 29,
   "id": "6493d60d",
   "metadata": {},
   "outputs": [
    {
     "data": {
      "text/plain": [
       "'The capital city of Nepal is Kathmandu.'"
      ]
     },
     "execution_count": 29,
     "metadata": {},
     "output_type": "execute_result"
    }
   ],
   "source": [
    "# test llm \n",
    "\n",
    "llm.invoke(\"Who is the capital city of Nepal?\").content"
   ]
  },
  {
   "cell_type": "code",
   "execution_count": null,
   "id": "d0ae0c2b",
   "metadata": {},
   "outputs": [],
   "source": []
  },
  {
   "cell_type": "code",
   "execution_count": 33,
   "id": "255edb28",
   "metadata": {},
   "outputs": [],
   "source": [
    "from langchain_community.agent_toolkits import SQLDatabaseToolkit\n",
    "\n",
    "# SQLDatabaseToolkit is a class that provides tools for interacting with a SQL database using LangChain.\n",
    "# it allows you to perform operations like querying, inserting, updating, and deleting data in a SQL database."
   ]
  },
  {
   "cell_type": "code",
   "execution_count": 34,
   "id": "6e5f674e",
   "metadata": {},
   "outputs": [],
   "source": [
    "db_toolkit=SQLDatabaseToolkit(db=db, llm=llm)"
   ]
  },
  {
   "cell_type": "code",
   "execution_count": 36,
   "id": "ed578c00",
   "metadata": {},
   "outputs": [],
   "source": [
    "# db_toolkit is an instance of SQLDatabaseToolkit that allows you to interact with the database\n",
    "# its give tools for querying, inserting, updating, and deleting data in the database"
   ]
  },
  {
   "cell_type": "code",
   "execution_count": 37,
   "id": "0f44a96b",
   "metadata": {},
   "outputs": [
    {
     "data": {
      "text/plain": [
       "[QuerySQLDatabaseTool(description=\"Input to this tool is a detailed and correct SQL query, output is a result from the database. If the query is not correct, an error message will be returned. If an error is returned, rewrite the query, check the query, and try again. If you encounter an issue with Unknown column 'xxxx' in 'field list', use sql_db_schema to query the correct table fields.\", db=<langchain_community.utilities.sql_database.SQLDatabase object at 0x000001F1A92D6C00>),\n",
       " InfoSQLDatabaseTool(description='Input to this tool is a comma-separated list of tables, output is the schema and sample rows for those tables. Be sure that the tables actually exist by calling sql_db_list_tables first! Example Input: table1, table2, table3', db=<langchain_community.utilities.sql_database.SQLDatabase object at 0x000001F1A92D6C00>),\n",
       " ListSQLDatabaseTool(db=<langchain_community.utilities.sql_database.SQLDatabase object at 0x000001F1A92D6C00>),\n",
       " QuerySQLCheckerTool(description='Use this tool to double check if your query is correct before executing it. Always use this tool before executing a query with sql_db_query!', db=<langchain_community.utilities.sql_database.SQLDatabase object at 0x000001F1A92D6C00>, llm=ChatGroq(client=<groq.resources.chat.completions.Completions object at 0x000001F1AADA52B0>, async_client=<groq.resources.chat.completions.AsyncCompletions object at 0x000001F1AAEE4590>, model_name='llama-3.1-8b-instant', temperature=0.1, model_kwargs={}, groq_api_key=SecretStr('**********')), llm_chain=LLMChain(verbose=False, prompt=PromptTemplate(input_variables=['dialect', 'query'], input_types={}, partial_variables={}, template='\\n{query}\\nDouble check the {dialect} query above for common mistakes, including:\\n- Using NOT IN with NULL values\\n- Using UNION when UNION ALL should have been used\\n- Using BETWEEN for exclusive ranges\\n- Data type mismatch in predicates\\n- Properly quoting identifiers\\n- Using the correct number of arguments for functions\\n- Casting to the correct data type\\n- Using the proper columns for joins\\n\\nIf there are any of the above mistakes, rewrite the query. If there are no mistakes, just reproduce the original query.\\n\\nOutput the final SQL query only.\\n\\nSQL Query: '), llm=ChatGroq(client=<groq.resources.chat.completions.Completions object at 0x000001F1AADA52B0>, async_client=<groq.resources.chat.completions.AsyncCompletions object at 0x000001F1AAEE4590>, model_name='llama-3.1-8b-instant', temperature=0.1, model_kwargs={}, groq_api_key=SecretStr('**********')), output_parser=StrOutputParser(), llm_kwargs={}))]"
      ]
     },
     "execution_count": 37,
     "metadata": {},
     "output_type": "execute_result"
    }
   ],
   "source": [
    "db_toolkit.get_tools()"
   ]
  },
  {
   "cell_type": "code",
   "execution_count": 39,
   "id": "8d3131eb",
   "metadata": {},
   "outputs": [
    {
     "name": "stdout",
     "output_type": "stream",
     "text": [
      "sql_db_query\n",
      "sql_db_schema\n",
      "sql_db_list_tables\n",
      "sql_db_query_checker\n"
     ]
    }
   ],
   "source": [
    "tools = db_toolkit.get_tools()\n",
    "\n",
    "for tool in tools:\n",
    "    print(tool.name)"
   ]
  },
  {
   "cell_type": "code",
   "execution_count": null,
   "id": "0d571728",
   "metadata": {},
   "outputs": [],
   "source": []
  },
  {
   "cell_type": "code",
   "execution_count": 40,
   "id": "36ec5958",
   "metadata": {},
   "outputs": [],
   "source": [
    "# create a tools"
   ]
  },
  {
   "cell_type": "code",
   "execution_count": 41,
   "id": "4a7a168c",
   "metadata": {},
   "outputs": [],
   "source": [
    "list_tables_tool = next((tool for tool in tools if tool.name == \"sql_db_list_tables\"), None)"
   ]
  },
  {
   "cell_type": "code",
   "execution_count": null,
   "id": "40b9f5aa",
   "metadata": {},
   "outputs": [
    {
     "data": {
      "text/plain": [
       "ListSQLDatabaseTool(db=<langchain_community.utilities.sql_database.SQLDatabase object at 0x000001F1A92D6C00>)"
      ]
     },
     "execution_count": 47,
     "metadata": {},
     "output_type": "execute_result"
    }
   ],
   "source": [
    "# tool 1\n",
    "list_tables_tool\n",
    "\n",
    "# this tool is used to list all the tables in the database"
   ]
  },
  {
   "cell_type": "code",
   "execution_count": 45,
   "id": "590d4aba",
   "metadata": {},
   "outputs": [],
   "source": [
    "get_schema_tool = next((tool for tool in tools if tool.name == \"sql_db_schema\"), None)"
   ]
  },
  {
   "cell_type": "code",
   "execution_count": null,
   "id": "2c3d3a37",
   "metadata": {},
   "outputs": [
    {
     "data": {
      "text/plain": [
       "InfoSQLDatabaseTool(description='Input to this tool is a comma-separated list of tables, output is the schema and sample rows for those tables. Be sure that the tables actually exist by calling sql_db_list_tables first! Example Input: table1, table2, table3', db=<langchain_community.utilities.sql_database.SQLDatabase object at 0x000001F1A92D6C00>)"
      ]
     },
     "execution_count": 48,
     "metadata": {},
     "output_type": "execute_result"
    }
   ],
   "source": [
    "# 2nd tool\n",
    "get_schema_tool\n",
    "# This tool is used to get the schema of the database, including table names and their columns."
   ]
  },
  {
   "cell_type": "code",
   "execution_count": null,
   "id": "a3880897",
   "metadata": {},
   "outputs": [],
   "source": []
  },
  {
   "cell_type": "code",
   "execution_count": 49,
   "id": "6dea717d",
   "metadata": {},
   "outputs": [
    {
     "data": {
      "text/plain": [
       "'customers, employees, orders'"
      ]
     },
     "execution_count": 49,
     "metadata": {},
     "output_type": "execute_result"
    }
   ],
   "source": [
    "list_tables_tool.invoke({})"
   ]
  },
  {
   "cell_type": "code",
   "execution_count": 52,
   "id": "31d565fe",
   "metadata": {},
   "outputs": [
    {
     "data": {
      "text/plain": [
       "'\\nCREATE TABLE customers (\\n\\tcustomer_id INTEGER, \\n\\tfirst_name TEXT NOT NULL, \\n\\tlast_name TEXT NOT NULL, \\n\\temail TEXT NOT NULL, \\n\\tphone TEXT, \\n\\taddress TEXT, \\n\\tPRIMARY KEY (customer_id), \\n\\tUNIQUE (email)\\n)\\n\\n/*\\n3 rows from customers table:\\ncustomer_id\\tfirst_name\\tlast_name\\temail\\tphone\\taddress\\n1\\tArun\\tPandey Laudari\\tarunpandeylaudari@example.com\\t9800000111\\tDhangadhi, Nepal\\n2\\tBinisha\\tChapagain\\tbinishachapagain2@example.com\\t9800000112\\tNepalgunj, Nepal\\n3\\tRam\\tSharma\\tram.sharma@example.com\\t9800000101\\tKathmandu, Nepal\\n*/'"
      ]
     },
     "execution_count": 52,
     "metadata": {},
     "output_type": "execute_result"
    }
   ],
   "source": [
    "get_schema_tool.invoke(\"customers\")"
   ]
  },
  {
   "cell_type": "code",
   "execution_count": 54,
   "id": "698f023c",
   "metadata": {},
   "outputs": [
    {
     "name": "stdout",
     "output_type": "stream",
     "text": [
      "\n",
      "CREATE TABLE customers (\n",
      "\tcustomer_id INTEGER, \n",
      "\tfirst_name TEXT NOT NULL, \n",
      "\tlast_name TEXT NOT NULL, \n",
      "\temail TEXT NOT NULL, \n",
      "\tphone TEXT, \n",
      "\taddress TEXT, \n",
      "\tPRIMARY KEY (customer_id), \n",
      "\tUNIQUE (email)\n",
      ")\n",
      "\n",
      "/*\n",
      "3 rows from customers table:\n",
      "customer_id\tfirst_name\tlast_name\temail\tphone\taddress\n",
      "1\tArun\tPandey Laudari\tarunpandeylaudari@example.com\t9800000111\tDhangadhi, Nepal\n",
      "2\tBinisha\tChapagain\tbinishachapagain2@example.com\t9800000112\tNepalgunj, Nepal\n",
      "3\tRam\tSharma\tram.sharma@example.com\t9800000101\tKathmandu, Nepal\n",
      "*/\n"
     ]
    }
   ],
   "source": [
    "print(get_schema_tool.invoke(\"customers\"))"
   ]
  },
  {
   "cell_type": "code",
   "execution_count": null,
   "id": "2d08655b",
   "metadata": {},
   "outputs": [],
   "source": []
  },
  {
   "cell_type": "code",
   "execution_count": 62,
   "id": "caa77b45",
   "metadata": {},
   "outputs": [],
   "source": [
    "# lets make a tool using tool decorator\n",
    "# 3rd tool create a tool to execute SQL queries\n",
    "from langchain_community.tools import tool\n",
    "\n",
    "@tool\n",
    "def db_query_tool(query: str) -> str:\n",
    "    \n",
    "    \"\"\"Executes a SQLquery against the database and returns the result.\n",
    "      if the query fails, it returns an error messag.\n",
    "      incase of an error , the user is advised to check the query syntax or the database connection and try again.\n",
    "    \"\"\"\n",
    "    \n",
    "    result = db.run_no_throw(query)\n",
    "    # db has a run_no_throw method that executes a SQL query against the database and returns the result.\n",
    "    # If the query fails, it returns an error message.\n",
    "    if not result:\n",
    "        return \"Error:Query failed.Please check the query syntax or the database connection and try again.\"\n",
    "    return result"
   ]
  },
  {
   "cell_type": "code",
   "execution_count": 63,
   "id": "a8d2f7e2",
   "metadata": {},
   "outputs": [
    {
     "data": {
      "text/plain": [
       "\"[(1, 'Arun', 'Pandey Laudari', 'arunpandeylaudari@example.com', '9800000111', 'Dhangadhi, Nepal'), (2, 'Binisha', 'Chapagain', 'binishachapagain2@example.com', '9800000112', 'Nepalgunj, Nepal'), (3, 'Ram', 'Sharma', 'ram.sharma@example.com', '9800000101', 'Kathmandu, Nepal'), (4, 'Sita', 'Thapa', 'sita.thapa@example.com', '9800000102', 'Lalitpur, Nepal'), (5, 'Hari', 'Karki', 'hari.karki@example.com', '9800000103', 'Pokhara, Nepal'), (6, 'Gita', 'Gurung', 'gita.gurung@example.com', '9800000104', 'Biratnagar, Nepal'), (7, 'Nabin', 'Lama', 'nabin.lama@example.com', '9800000105', 'Bhaktapur, Nepal'), (8, 'Rina', 'Magar', 'rina.magar@example.com', '9800000106', 'Dharan, Nepal'), (9, 'Dipak', 'Rai', 'dipak.rai@example.com', '9800000107', 'Butwal, Nepal'), (10, 'Mina', 'Tamang', 'mina.tamang@example.com', '9800000108', 'Hetauda, Nepal'), (11, 'Kiran', 'KC', 'kiran.kc@example.com', '9800000109', 'Janakpur, Nepal'), (12, 'Sabina', 'Sharma', 'sabina.sharma@example.com', '9800000110', 'Chitwan, Nepal')]\""
      ]
     },
     "execution_count": 63,
     "metadata": {},
     "output_type": "execute_result"
    }
   ],
   "source": [
    "db_query_tool.invoke(\"SELECT * FROM customers;\")"
   ]
  },
  {
   "cell_type": "code",
   "execution_count": 65,
   "id": "81c19361",
   "metadata": {},
   "outputs": [],
   "source": [
    "# db has run tool that executes a SQL query against the database and returns the result.\n",
    "# db.run(\"SELECT * FROM customers;\")\n",
    "\n",
    "# prefer using run_no_throw method to avoid exceptions and handle errors gracefully."
   ]
  },
  {
   "cell_type": "code",
   "execution_count": null,
   "id": "9d13344f",
   "metadata": {},
   "outputs": [],
   "source": []
  },
  {
   "cell_type": "code",
   "execution_count": 66,
   "id": "b8b40a8a",
   "metadata": {},
   "outputs": [],
   "source": [
    "from langchain_core.prompts import ChatPromptTemplate"
   ]
  },
  {
   "cell_type": "code",
   "execution_count": 69,
   "id": "22084088",
   "metadata": {},
   "outputs": [
    {
     "data": {
      "text/plain": [
       "'SELECT * FROM employees LIMIT 5;\\n\\n'"
      ]
     },
     "execution_count": 69,
     "metadata": {},
     "output_type": "execute_result"
    }
   ],
   "source": [
    "from langchain_core.prompts import ChatPromptTemplate\n",
    "\n",
    "query_check_system = \"\"\"You are a SQL expert with a strong attention to detail.\n",
    "Double check the SQLite query for common mistakes, including:\n",
    "- Using NOT IN with NULL values\n",
    "- Using UNION when UNION ALL should have been used\n",
    "- Using BETWEEN for exclusive ranges\n",
    "- Data type mismatch in predicates\n",
    "- Properly quoting identifiers\n",
    "- Using the correct number of arguments for functions\n",
    "- Casting to the correct data type\n",
    "- Using the proper columns for joins\n",
    "\n",
    "If there are any of the above mistakes, rewrite the query. If there are no mistakes, just reproduce the original query.\n",
    "\n",
    "You will call the appropriate tool to execute the query after running this check.\"\"\"\n",
    "\n",
    "query_check_prompt = ChatPromptTemplate.from_messages([(\"system\", query_check_system), (\"placeholder\", \"{messages}\")])\n",
    "\n",
    "query_check = query_check_prompt | llm.bind_tools([db_query_tool])\n",
    "\n",
    "query_check.invoke({\"messages\": [(\"user\", \"SELECT * FROM employees LIMIT 5;\")]}).content\n"
   ]
  },
  {
   "cell_type": "code",
   "execution_count": null,
   "id": "bcfbc853",
   "metadata": {},
   "outputs": [],
   "source": []
  }
 ],
 "metadata": {
  "kernelspec": {
   "display_name": ".sqlagentenv",
   "language": "python",
   "name": "python3"
  },
  "language_info": {
   "codemirror_mode": {
    "name": "ipython",
    "version": 3
   },
   "file_extension": ".py",
   "mimetype": "text/x-python",
   "name": "python",
   "nbconvert_exporter": "python",
   "pygments_lexer": "ipython3",
   "version": "3.12.7"
  }
 },
 "nbformat": 4,
 "nbformat_minor": 5
}
